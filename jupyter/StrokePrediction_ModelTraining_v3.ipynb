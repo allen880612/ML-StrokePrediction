{
 "cells": [
  {
   "cell_type": "code",
   "execution_count": 15,
   "id": "5cc74e3e",
   "metadata": {},
   "outputs": [],
   "source": [
    "import pandas as pd\n",
    "import numpy as np\n",
    "import matplotlib.pyplot as plt"
   ]
  },
  {
   "cell_type": "code",
   "execution_count": 23,
   "id": "679427ad",
   "metadata": {},
   "outputs": [],
   "source": [
    "from sklearn.model_selection import train_test_split\n",
    "from sklearn.model_selection import StratifiedKFold, cross_val_score, cross_validate\n",
    "from sklearn.metrics import make_scorer, accuracy_score, recall_score, f1_score, roc_auc_score\n",
    "\n",
    "from sklearn.neighbors import KNeighborsClassifier\n",
    "from sklearn import svm\n",
    "from sklearn.ensemble import AdaBoostClassifier"
   ]
  },
  {
   "cell_type": "markdown",
   "id": "b1843cca",
   "metadata": {},
   "source": [
    "### Read Dataset"
   ]
  },
  {
   "cell_type": "code",
   "execution_count": 3,
   "id": "06f51fba",
   "metadata": {},
   "outputs": [
    {
     "data": {
      "text/html": [
       "<div>\n",
       "<style scoped>\n",
       "    .dataframe tbody tr th:only-of-type {\n",
       "        vertical-align: middle;\n",
       "    }\n",
       "\n",
       "    .dataframe tbody tr th {\n",
       "        vertical-align: top;\n",
       "    }\n",
       "\n",
       "    .dataframe thead th {\n",
       "        text-align: right;\n",
       "    }\n",
       "</style>\n",
       "<table border=\"1\" class=\"dataframe\">\n",
       "  <thead>\n",
       "    <tr style=\"text-align: right;\">\n",
       "      <th></th>\n",
       "      <th>age</th>\n",
       "      <th>hypertension</th>\n",
       "      <th>heart_disease</th>\n",
       "      <th>ever_married</th>\n",
       "      <th>avg_glucose_level</th>\n",
       "      <th>bmi</th>\n",
       "      <th>smoking_status</th>\n",
       "      <th>stroke</th>\n",
       "      <th>is_male</th>\n",
       "      <th>is_urban</th>\n",
       "      <th>work_type_Govt_job</th>\n",
       "      <th>work_type_Never_worked</th>\n",
       "      <th>work_type_Private</th>\n",
       "      <th>work_type_Self-employed</th>\n",
       "      <th>work_type_children</th>\n",
       "    </tr>\n",
       "  </thead>\n",
       "  <tbody>\n",
       "    <tr>\n",
       "      <th>4682</th>\n",
       "      <td>0.951172</td>\n",
       "      <td>0.0</td>\n",
       "      <td>0.0</td>\n",
       "      <td>1.0</td>\n",
       "      <td>0.116887</td>\n",
       "      <td>0.214204</td>\n",
       "      <td>0.000000</td>\n",
       "      <td>0.0</td>\n",
       "      <td>1.0</td>\n",
       "      <td>1.0</td>\n",
       "      <td>0.0</td>\n",
       "      <td>0.0</td>\n",
       "      <td>1.0</td>\n",
       "      <td>0.0</td>\n",
       "      <td>0.0</td>\n",
       "    </tr>\n",
       "    <tr>\n",
       "      <th>1666</th>\n",
       "      <td>0.035645</td>\n",
       "      <td>0.0</td>\n",
       "      <td>0.0</td>\n",
       "      <td>0.0</td>\n",
       "      <td>0.010202</td>\n",
       "      <td>0.074456</td>\n",
       "      <td>0.166667</td>\n",
       "      <td>0.0</td>\n",
       "      <td>0.0</td>\n",
       "      <td>1.0</td>\n",
       "      <td>0.0</td>\n",
       "      <td>0.0</td>\n",
       "      <td>0.0</td>\n",
       "      <td>0.0</td>\n",
       "      <td>1.0</td>\n",
       "    </tr>\n",
       "    <tr>\n",
       "      <th>175</th>\n",
       "      <td>0.877930</td>\n",
       "      <td>1.0</td>\n",
       "      <td>0.0</td>\n",
       "      <td>1.0</td>\n",
       "      <td>0.601837</td>\n",
       "      <td>0.306987</td>\n",
       "      <td>0.000000</td>\n",
       "      <td>1.0</td>\n",
       "      <td>1.0</td>\n",
       "      <td>0.0</td>\n",
       "      <td>0.0</td>\n",
       "      <td>0.0</td>\n",
       "      <td>0.0</td>\n",
       "      <td>1.0</td>\n",
       "      <td>0.0</td>\n",
       "    </tr>\n",
       "    <tr>\n",
       "      <th>4493</th>\n",
       "      <td>0.682617</td>\n",
       "      <td>0.0</td>\n",
       "      <td>0.0</td>\n",
       "      <td>1.0</td>\n",
       "      <td>0.142877</td>\n",
       "      <td>0.254296</td>\n",
       "      <td>0.666667</td>\n",
       "      <td>0.0</td>\n",
       "      <td>0.0</td>\n",
       "      <td>1.0</td>\n",
       "      <td>1.0</td>\n",
       "      <td>0.0</td>\n",
       "      <td>0.0</td>\n",
       "      <td>0.0</td>\n",
       "      <td>0.0</td>\n",
       "    </tr>\n",
       "    <tr>\n",
       "      <th>491</th>\n",
       "      <td>0.731445</td>\n",
       "      <td>0.0</td>\n",
       "      <td>0.0</td>\n",
       "      <td>1.0</td>\n",
       "      <td>0.119380</td>\n",
       "      <td>0.222222</td>\n",
       "      <td>0.500000</td>\n",
       "      <td>0.0</td>\n",
       "      <td>1.0</td>\n",
       "      <td>0.0</td>\n",
       "      <td>0.0</td>\n",
       "      <td>0.0</td>\n",
       "      <td>1.0</td>\n",
       "      <td>0.0</td>\n",
       "      <td>0.0</td>\n",
       "    </tr>\n",
       "  </tbody>\n",
       "</table>\n",
       "</div>"
      ],
      "text/plain": [
       "           age  hypertension  heart_disease  ever_married  avg_glucose_level  \\\n",
       "4682  0.951172           0.0            0.0           1.0           0.116887   \n",
       "1666  0.035645           0.0            0.0           0.0           0.010202   \n",
       "175   0.877930           1.0            0.0           1.0           0.601837   \n",
       "4493  0.682617           0.0            0.0           1.0           0.142877   \n",
       "491   0.731445           0.0            0.0           1.0           0.119380   \n",
       "\n",
       "           bmi  smoking_status  stroke  is_male  is_urban  work_type_Govt_job  \\\n",
       "4682  0.214204        0.000000     0.0      1.0       1.0                 0.0   \n",
       "1666  0.074456        0.166667     0.0      0.0       1.0                 0.0   \n",
       "175   0.306987        0.000000     1.0      1.0       0.0                 0.0   \n",
       "4493  0.254296        0.666667     0.0      0.0       1.0                 1.0   \n",
       "491   0.222222        0.500000     0.0      1.0       0.0                 0.0   \n",
       "\n",
       "      work_type_Never_worked  work_type_Private  work_type_Self-employed  \\\n",
       "4682                     0.0                1.0                      0.0   \n",
       "1666                     0.0                0.0                      0.0   \n",
       "175                      0.0                0.0                      1.0   \n",
       "4493                     0.0                0.0                      0.0   \n",
       "491                      0.0                1.0                      0.0   \n",
       "\n",
       "      work_type_children  \n",
       "4682                 0.0  \n",
       "1666                 1.0  \n",
       "175                  0.0  \n",
       "4493                 0.0  \n",
       "491                  0.0  "
      ]
     },
     "execution_count": 3,
     "metadata": {},
     "output_type": "execute_result"
    }
   ],
   "source": [
    "patients = pd.read_csv('healthcare-dataset-stroke-data-preprocessed.csv')\n",
    "patients.sample(5)"
   ]
  },
  {
   "cell_type": "markdown",
   "id": "60f1d025",
   "metadata": {},
   "source": [
    "### Functions"
   ]
  },
  {
   "cell_type": "code",
   "execution_count": 19,
   "id": "a2b83c84",
   "metadata": {},
   "outputs": [],
   "source": [
    "def get_k_cross_validation_metrics(clf, X, y, k):\n",
    "    skf = StratifiedKFold(n_splits=k, shuffle=True)\n",
    "    cv_results = cross_validate(clf, X, y, cv=skf, scoring = {\n",
    "    'accuracy': make_scorer(accuracy_score),\n",
    "    'recall': make_scorer(recall_score),\n",
    "    'specificity': make_scorer(recall_score,pos_label=0),\n",
    "    'f1': make_scorer(f1_score),\n",
    "    'ROC': make_scorer(roc_auc_score),\n",
    "    })\n",
    "    return cv_results"
   ]
  },
  {
   "cell_type": "code",
   "execution_count": 20,
   "id": "f4a760f8",
   "metadata": {},
   "outputs": [],
   "source": [
    "def name(cls):\n",
    "    return cls.__class__.__name__\n",
    "\n",
    "def get_accuracys(classifiers, X, y, k):\n",
    "    cls_accs = {name(cls):[] for cls in classifiers}\n",
    "    for cls in classifiers:\n",
    "        cv_results = get_k_cross_validation_metrics(cls, X, y, k)\n",
    "        cls_accs[name(cls)] = cv_results\n",
    "    return cls_accs"
   ]
  },
  {
   "cell_type": "markdown",
   "id": "6ffecd0f",
   "metadata": {},
   "source": [
    "### Model Training"
   ]
  },
  {
   "cell_type": "code",
   "execution_count": 21,
   "id": "fb562720",
   "metadata": {},
   "outputs": [],
   "source": [
    "X = patients.drop([\"stroke\"], axis=1)\n",
    "y = patients.stroke"
   ]
  },
  {
   "cell_type": "code",
   "execution_count": 24,
   "id": "1394352c",
   "metadata": {},
   "outputs": [],
   "source": [
    "k_folds = 10\n",
    "knn = KNeighborsClassifier(n_neighbors=5)\n",
    "svc = svm.SVC(probability=True)\n",
    "adaBoost = AdaBoostClassifier() # default n_estimators=50\n",
    "classifiers = [knn, svc, adaBoost]\n",
    "cv_results = get_accuracys(classifiers, X, y, k_folds)"
   ]
  },
  {
   "cell_type": "code",
   "execution_count": 41,
   "id": "25536a68",
   "metadata": {},
   "outputs": [
    {
     "data": {
      "text/html": [
       "<div>\n",
       "<style scoped>\n",
       "    .dataframe tbody tr th:only-of-type {\n",
       "        vertical-align: middle;\n",
       "    }\n",
       "\n",
       "    .dataframe tbody tr th {\n",
       "        vertical-align: top;\n",
       "    }\n",
       "\n",
       "    .dataframe thead th {\n",
       "        text-align: right;\n",
       "    }\n",
       "</style>\n",
       "<table border=\"1\" class=\"dataframe\">\n",
       "  <thead>\n",
       "    <tr style=\"text-align: right;\">\n",
       "      <th></th>\n",
       "      <th>classifier</th>\n",
       "      <th>accuracy</th>\n",
       "      <th>recall</th>\n",
       "      <th>specificity</th>\n",
       "      <th>f1</th>\n",
       "      <th>ROC</th>\n",
       "    </tr>\n",
       "  </thead>\n",
       "  <tbody>\n",
       "    <tr>\n",
       "      <th>0</th>\n",
       "      <td>KNeighborsClassifier</td>\n",
       "      <td>0.947358</td>\n",
       "      <td>0.044167</td>\n",
       "      <td>0.993622</td>\n",
       "      <td>0.075033</td>\n",
       "      <td>0.518894</td>\n",
       "    </tr>\n",
       "    <tr>\n",
       "      <th>1</th>\n",
       "      <td>SVC</td>\n",
       "      <td>0.951272</td>\n",
       "      <td>0.000000</td>\n",
       "      <td>1.000000</td>\n",
       "      <td>0.000000</td>\n",
       "      <td>0.500000</td>\n",
       "    </tr>\n",
       "    <tr>\n",
       "      <th>2</th>\n",
       "      <td>AdaBoostClassifier</td>\n",
       "      <td>0.950685</td>\n",
       "      <td>0.004000</td>\n",
       "      <td>0.999177</td>\n",
       "      <td>0.007692</td>\n",
       "      <td>0.501589</td>\n",
       "    </tr>\n",
       "  </tbody>\n",
       "</table>\n",
       "</div>"
      ],
      "text/plain": [
       "             classifier  accuracy    recall  specificity        f1       ROC\n",
       "0  KNeighborsClassifier  0.947358  0.044167     0.993622  0.075033  0.518894\n",
       "1                   SVC  0.951272  0.000000     1.000000  0.000000  0.500000\n",
       "2    AdaBoostClassifier  0.950685  0.004000     0.999177  0.007692  0.501589"
      ]
     },
     "execution_count": 41,
     "metadata": {},
     "output_type": "execute_result"
    }
   ],
   "source": [
    "metrics = ['accuracy', 'recall','specificity','f1', 'ROC']\n",
    "result = pd.DataFrame([], columns=[\"classifier\", *metrics])\n",
    "for cls, cls_metrics in cv_results.items():\n",
    "    scores = {metric:cls_metrics['test_' + metric].mean() for metric in metrics}\n",
    "    scores[\"classifier\"] = cls\n",
    "    result = result.append(scores, ignore_index=True)\n",
    "result"
   ]
  },
  {
   "cell_type": "code",
   "execution_count": 43,
   "id": "39dde426",
   "metadata": {},
   "outputs": [],
   "source": [
    "result.to_excel(\"PredictResult.xlsx\", sheet_name=\"original\", float_format=\"%.4f\", index=False)"
   ]
  },
  {
   "cell_type": "code",
   "execution_count": 9,
   "id": "11bbdb78",
   "metadata": {},
   "outputs": [],
   "source": [
    "def create_plt(cls):\n",
    "    plt.plot(cv_results[cls] * 100)\n",
    "    plt.title(f\"{cls} Accuracy(%)\")\n",
    "    plt.xlabel(\"step\")\n",
    "    plt.xticks(range(0, k_folds, 1))\n",
    "    plt.ylabel(\"accuracy(%)\")\n",
    "    plt.show()"
   ]
  },
  {
   "cell_type": "code",
   "execution_count": 10,
   "id": "03b5f425",
   "metadata": {},
   "outputs": [
    {
     "data": {
      "image/png": "[encoded data removed]",
      "text/plain": [
       "<Figure size 432x288 with 1 Axes>"
      ]
     },
     "metadata": {
      "needs_background": "light"
     },
     "output_type": "display_data"
    },
    {
     "data": {
      "image/png": "[encoded data removed]",
      "text/plain": [
       "<Figure size 432x288 with 1 Axes>"
      ]
     },
     "metadata": {
      "needs_background": "light"
     },
     "output_type": "display_data"
    },
    {
     "data": {
      "image/png": "[encoded data removed]",
      "text/plain": [
       "<Figure size 432x288 with 1 Axes>"
      ]
     },
     "metadata": {
      "needs_background": "light"
     },
     "output_type": "display_data"
    }
   ],
   "source": [
    "create_plt(\"KNeighborsClassifier\")\n",
    "create_plt(\"SVC\")\n",
    "create_plt(\"AdaBoostClassifier\")"
   ]
  }
 ],
 "metadata": {
  "kernelspec": {
   "display_name": "Python 3 (ipykernel)",
   "language": "python",
   "name": "python3"
  },
  "language_info": {
   "codemirror_mode": {
    "name": "ipython",
    "version": 3
   },
   "file_extension": ".py",
   "mimetype": "text/x-python",
   "name": "python",
   "nbconvert_exporter": "python",
   "pygments_lexer": "ipython3",
   "version": "3.8.8"
  }
 },
 "nbformat": 4,
 "nbformat_minor": 5
}
